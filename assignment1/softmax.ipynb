{
 "cells": [
  {
   "cell_type": "markdown",
   "metadata": {},
   "source": [
    "# Softmax exercise\n",
    "\n",
    "*Complete and hand in this completed worksheet (including its outputs and any supporting code outside of the worksheet) with your assignment submission. For more details see the [assignments page](http://vision.stanford.edu/teaching/cs231n/assignments.html) on the course website.*\n",
    "\n",
    "This exercise is analogous to the SVM exercise. You will:\n",
    "\n",
    "- implement a fully-vectorized **loss function** for the Softmax classifier\n",
    "- implement the fully-vectorized expression for its **analytic gradient**\n",
    "- **check your implementation** with numerical gradient\n",
    "- use a validation set to **tune the learning rate and regularization** strength\n",
    "- **optimize** the loss function with **SGD**\n",
    "- **visualize** the final learned weights\n"
   ]
  },
  {
   "cell_type": "code",
   "execution_count": 1,
   "metadata": {
    "collapsed": false
   },
   "outputs": [],
   "source": [
    "import random\n",
    "import numpy as np\n",
    "from cs231n.data_utils import load_CIFAR10\n",
    "import matplotlib.pyplot as plt\n",
    "\n",
    "from __future__ import print_function\n",
    "\n",
    "%matplotlib inline\n",
    "plt.rcParams['figure.figsize'] = (10.0, 8.0) # set default size of plots\n",
    "plt.rcParams['image.interpolation'] = 'nearest'\n",
    "plt.rcParams['image.cmap'] = 'gray'\n",
    "\n",
    "# for auto-reloading extenrnal modules\n",
    "# see http://stackoverflow.com/questions/1907993/autoreload-of-modules-in-ipython\n",
    "%load_ext autoreload\n",
    "%autoreload 2"
   ]
  },
  {
   "cell_type": "code",
   "execution_count": 2,
   "metadata": {
    "collapsed": false
   },
   "outputs": [
    {
     "name": "stdout",
     "output_type": "stream",
     "text": [
      "Train data shape:  (49000, 3073)\n",
      "Train labels shape:  (49000,)\n",
      "Validation data shape:  (1000, 3073)\n",
      "Validation labels shape:  (1000,)\n",
      "Test data shape:  (1000, 3073)\n",
      "Test labels shape:  (1000,)\n",
      "dev data shape:  (500, 3073)\n",
      "dev labels shape:  (500,)\n"
     ]
    }
   ],
   "source": [
    "def get_CIFAR10_data(num_training=49000, num_validation=1000, num_test=1000, num_dev=500):\n",
    "    \"\"\"\n",
    "    Load the CIFAR-10 dataset from disk and perform preprocessing to prepare\n",
    "    it for the linear classifier. These are the same steps as we used for the\n",
    "    SVM, but condensed to a single function.  \n",
    "    \"\"\"\n",
    "    # Load the raw CIFAR-10 data\n",
    "    cifar10_dir = 'cs231n/datasets/cifar-10-batches-py'\n",
    "    X_train, y_train, X_test, y_test = load_CIFAR10(cifar10_dir)\n",
    "    \n",
    "    # subsample the data\n",
    "    mask = list(range(num_training, num_training + num_validation))\n",
    "    X_val = X_train[mask]\n",
    "    y_val = y_train[mask]\n",
    "    mask = list(range(num_training))\n",
    "    X_train = X_train[mask]\n",
    "    y_train = y_train[mask]\n",
    "    mask = list(range(num_test))\n",
    "    X_test = X_test[mask]\n",
    "    y_test = y_test[mask]\n",
    "    mask = np.random.choice(num_training, num_dev, replace=False)\n",
    "    X_dev = X_train[mask]\n",
    "    y_dev = y_train[mask]\n",
    "    \n",
    "    # Preprocessing: reshape the image data into rows\n",
    "    X_train = np.reshape(X_train, (X_train.shape[0], -1))\n",
    "    X_val = np.reshape(X_val, (X_val.shape[0], -1))\n",
    "    X_test = np.reshape(X_test, (X_test.shape[0], -1))\n",
    "    X_dev = np.reshape(X_dev, (X_dev.shape[0], -1))\n",
    "    \n",
    "    # Normalize the data: subtract the mean image\n",
    "    mean_image = np.mean(X_train, axis = 0)\n",
    "    X_train -= mean_image\n",
    "    X_val -= mean_image\n",
    "    X_test -= mean_image\n",
    "    X_dev -= mean_image\n",
    "    \n",
    "    # add bias dimension and transform into columns\n",
    "    X_train = np.hstack([X_train, np.ones((X_train.shape[0], 1))])\n",
    "    X_val = np.hstack([X_val, np.ones((X_val.shape[0], 1))])\n",
    "    X_test = np.hstack([X_test, np.ones((X_test.shape[0], 1))])\n",
    "    X_dev = np.hstack([X_dev, np.ones((X_dev.shape[0], 1))])\n",
    "    \n",
    "    return X_train, y_train, X_val, y_val, X_test, y_test, X_dev, y_dev\n",
    "\n",
    "\n",
    "# Invoke the above function to get our data.\n",
    "X_train, y_train, X_val, y_val, X_test, y_test, X_dev, y_dev = get_CIFAR10_data()\n",
    "print('Train data shape: ', X_train.shape)\n",
    "print('Train labels shape: ', y_train.shape)\n",
    "print('Validation data shape: ', X_val.shape)\n",
    "print('Validation labels shape: ', y_val.shape)\n",
    "print('Test data shape: ', X_test.shape)\n",
    "print('Test labels shape: ', y_test.shape)\n",
    "print('dev data shape: ', X_dev.shape)\n",
    "print('dev labels shape: ', y_dev.shape)"
   ]
  },
  {
   "cell_type": "markdown",
   "metadata": {},
   "source": [
    "## Softmax Classifier\n",
    "\n",
    "Your code for this section will all be written inside **cs231n/classifiers/softmax.py**. \n"
   ]
  },
  {
   "cell_type": "code",
   "execution_count": 3,
   "metadata": {
    "collapsed": false
   },
   "outputs": [
    {
     "name": "stdout",
     "output_type": "stream",
     "text": [
      "loss: 2.375638\n",
      "sanity check: 2.302585\n"
     ]
    }
   ],
   "source": [
    "# First implement the naive softmax loss function with nested loops.\n",
    "# Open the file cs231n/classifiers/softmax.py and implement the\n",
    "# softmax_loss_naive function.\n",
    "\n",
    "from cs231n.classifiers.softmax import softmax_loss_naive\n",
    "import time\n",
    "\n",
    "# Generate a random softmax weight matrix and use it to compute the loss.\n",
    "W = np.random.randn(3073, 10) * 0.0001\n",
    "loss, grad = softmax_loss_naive(W, X_dev, y_dev, 0.0)\n",
    "\n",
    "# As a rough sanity check, our loss should be something close to -log(0.1).\n",
    "print('loss: %f' % loss)\n",
    "print('sanity check: %f' % (-np.log(0.1)))"
   ]
  },
  {
   "cell_type": "markdown",
   "metadata": {},
   "source": [
    "## Inline Question 1:\n",
    "Why do we expect our loss to be close to -log(0.1)? Explain briefly.**\n",
    "\n",
    "**Your answer:** We have 10 classes. By the probabilistic cross-entropy loss interpretation of Softmax, we expect the average probability of each class to be ~0.1 (they are all a priori just as likely). We're using the -log of this as our loss.\n"
   ]
  },
  {
   "cell_type": "code",
   "execution_count": 4,
   "metadata": {
    "collapsed": false
   },
   "outputs": [
    {
     "name": "stdout",
     "output_type": "stream",
     "text": [
      "numerical: 0.968644 analytic: 0.968644, relative error: 4.951328e-08\n",
      "numerical: 0.414946 analytic: 0.414946, relative error: 9.441146e-09\n",
      "numerical: -0.273530 analytic: -0.273530, relative error: 1.502964e-08\n",
      "numerical: -0.340901 analytic: -0.340901, relative error: 7.705933e-08\n",
      "numerical: -0.548455 analytic: -0.548455, relative error: 6.098949e-08\n",
      "numerical: -5.521465 analytic: -5.521465, relative error: 3.331852e-09\n",
      "numerical: -1.786514 analytic: -1.786514, relative error: 4.076094e-09\n",
      "numerical: 1.883817 analytic: 1.883817, relative error: 3.973453e-08\n",
      "numerical: 1.895339 analytic: 1.895339, relative error: 3.329136e-08\n",
      "numerical: -0.601493 analytic: -0.601493, relative error: 6.857184e-08\n",
      "numerical: 2.133743 analytic: 2.133743, relative error: 2.072426e-08\n",
      "numerical: 3.041026 analytic: 3.041026, relative error: 3.151780e-09\n",
      "numerical: 0.143479 analytic: 0.143479, relative error: 5.720589e-07\n",
      "numerical: -4.385351 analytic: -4.385351, relative error: 4.778800e-09\n",
      "numerical: -3.471642 analytic: -3.471642, relative error: 4.632095e-09\n",
      "numerical: 4.374103 analytic: 4.374103, relative error: 3.405258e-09\n",
      "numerical: 0.947421 analytic: 0.947421, relative error: 9.626810e-08\n",
      "numerical: 3.767154 analytic: 3.767154, relative error: 6.895552e-09\n",
      "numerical: 0.663539 analytic: 0.663539, relative error: 2.132636e-08\n",
      "numerical: -2.319067 analytic: -2.319067, relative error: 1.149718e-08\n"
     ]
    }
   ],
   "source": [
    "# Complete the implementation of softmax_loss_naive and implement a (naive)\n",
    "# version of the gradient that uses nested loops.\n",
    "loss, grad = softmax_loss_naive(W, X_dev, y_dev, 0.0)\n",
    "\n",
    "# As we did for the SVM, use numeric gradient checking as a debugging tool.\n",
    "# The numeric gradient should be close to the analytic gradient.\n",
    "from cs231n.gradient_check import grad_check_sparse\n",
    "f = lambda w: softmax_loss_naive(w, X_dev, y_dev, 0.0)[0]\n",
    "grad_numerical = grad_check_sparse(f, W, grad, 10)\n",
    "\n",
    "# similar to SVM case, do another gradient check with regularization\n",
    "loss, grad = softmax_loss_naive(W, X_dev, y_dev, 5e1)\n",
    "f = lambda w: softmax_loss_naive(w, X_dev, y_dev, 5e1)[0]\n",
    "grad_numerical = grad_check_sparse(f, W, grad, 10)"
   ]
  },
  {
   "cell_type": "code",
   "execution_count": 12,
   "metadata": {
    "collapsed": false
   },
   "outputs": [
    {
     "name": "stdout",
     "output_type": "stream",
     "text": [
      "naive loss: 2.375638e+00 computed in 0.118363s\n",
      "vectorized loss: 2.375638e+00 computed in 0.014451s\n",
      "Loss difference: 0.000000\n",
      "Gradient difference: 0.000000\n"
     ]
    }
   ],
   "source": [
    "# Now that we have a naive implementation of the softmax loss function and its gradient,\n",
    "# implement a vectorized version in softmax_loss_vectorized.\n",
    "# The two versions should compute the same results, but the vectorized version should be\n",
    "# much faster.\n",
    "tic = time.time()\n",
    "loss_naive, grad_naive = softmax_loss_naive(W, X_dev, y_dev, 0.000005)\n",
    "toc = time.time()\n",
    "print('naive loss: %e computed in %fs' % (loss_naive, toc - tic))\n",
    "\n",
    "from cs231n.classifiers.softmax import softmax_loss_vectorized\n",
    "tic = time.time()\n",
    "loss_vectorized, grad_vectorized = softmax_loss_vectorized(W, X_dev, y_dev, 0.000005)\n",
    "toc = time.time()\n",
    "print('vectorized loss: %e computed in %fs' % (loss_vectorized, toc - tic))\n",
    "\n",
    "# As we did for the SVM, we use the Frobenius norm to compare the two versions\n",
    "# of the gradient.\n",
    "grad_difference = np.linalg.norm(grad_naive - grad_vectorized, ord='fro')\n",
    "print('Loss difference: %f' % np.abs(loss_naive - loss_vectorized))\n",
    "print('Gradient difference: %f' % grad_difference)"
   ]
  },
  {
   "cell_type": "code",
   "execution_count": 14,
   "metadata": {
    "collapsed": false
   },
   "outputs": [
    {
     "name": "stderr",
     "output_type": "stream",
     "text": [
      "cs231n/classifiers/softmax.py:86: RuntimeWarning: overflow encountered in double_scalars\n",
      "  loss = np.sum(loss) / float(num_train) + 0.5 * reg * np.sum(W*W)\n",
      "cs231n/classifiers/softmax.py:86: RuntimeWarning: overflow encountered in multiply\n",
      "  loss = np.sum(loss) / float(num_train) + 0.5 * reg * np.sum(W*W)\n",
      "cs231n/classifiers/softmax.py:79: RuntimeWarning: overflow encountered in add\n",
      "  scoreT += - np.max(scoreT , axis=0)\n",
      "cs231n/classifiers/softmax.py:79: RuntimeWarning: invalid value encountered in add\n",
      "  scoreT += - np.max(scoreT , axis=0)\n",
      "cs231n/classifiers/softmax.py:91: RuntimeWarning: overflow encountered in multiply\n",
      "  #############################################################################\n",
      "cs231n/classifiers/linear_classifier.py:76: RuntimeWarning: overflow encountered in multiply\n",
      "  self.W -= learning_rate * grad\n"
     ]
    },
    {
     "name": "stdout",
     "output_type": "stream",
     "text": [
      "lr 1.000000e-10 reg 1.000000e-03 train accuracy: 0.123184 val accuracy: 0.128000\n",
      "lr 1.000000e-10 reg 1.000000e-02 train accuracy: 0.081755 val accuracy: 0.086000\n",
      "lr 1.000000e-10 reg 1.000000e-01 train accuracy: 0.079490 val accuracy: 0.080000\n",
      "lr 1.000000e-10 reg 1.000000e+00 train accuracy: 0.101204 val accuracy: 0.098000\n",
      "lr 1.000000e-10 reg 1.000000e+01 train accuracy: 0.078245 val accuracy: 0.073000\n",
      "lr 1.000000e-10 reg 1.000000e+02 train accuracy: 0.097694 val accuracy: 0.084000\n",
      "lr 1.000000e-10 reg 1.000000e+03 train accuracy: 0.086980 val accuracy: 0.086000\n",
      "lr 1.000000e-10 reg 1.000000e+04 train accuracy: 0.103490 val accuracy: 0.097000\n",
      "lr 1.000000e-10 reg 1.000000e+05 train accuracy: 0.083898 val accuracy: 0.084000\n",
      "lr 1.000000e-10 reg 1.000000e+06 train accuracy: 0.081796 val accuracy: 0.091000\n",
      "lr 1.668101e-08 reg 1.000000e-03 train accuracy: 0.113061 val accuracy: 0.129000\n",
      "lr 1.668101e-08 reg 1.000000e-02 train accuracy: 0.110245 val accuracy: 0.109000\n",
      "lr 1.668101e-08 reg 1.000000e-01 train accuracy: 0.101245 val accuracy: 0.104000\n",
      "lr 1.668101e-08 reg 1.000000e+00 train accuracy: 0.137204 val accuracy: 0.144000\n",
      "lr 1.668101e-08 reg 1.000000e+01 train accuracy: 0.096857 val accuracy: 0.115000\n",
      "lr 1.668101e-08 reg 1.000000e+02 train accuracy: 0.089857 val accuracy: 0.087000\n",
      "lr 1.668101e-08 reg 1.000000e+03 train accuracy: 0.105327 val accuracy: 0.088000\n",
      "lr 1.668101e-08 reg 1.000000e+04 train accuracy: 0.119184 val accuracy: 0.103000\n",
      "lr 1.668101e-08 reg 1.000000e+05 train accuracy: 0.108245 val accuracy: 0.095000\n",
      "lr 1.668101e-08 reg 1.000000e+06 train accuracy: 0.164755 val accuracy: 0.157000\n",
      "lr 2.782559e-06 reg 1.000000e-03 train accuracy: 0.270857 val accuracy: 0.284000\n",
      "lr 2.782559e-06 reg 1.000000e-02 train accuracy: 0.276204 val accuracy: 0.298000\n",
      "lr 2.782559e-06 reg 1.000000e-01 train accuracy: 0.277653 val accuracy: 0.278000\n",
      "lr 2.782559e-06 reg 1.000000e+00 train accuracy: 0.278041 val accuracy: 0.266000\n",
      "lr 2.782559e-06 reg 1.000000e+01 train accuracy: 0.273796 val accuracy: 0.288000\n",
      "lr 2.782559e-06 reg 1.000000e+02 train accuracy: 0.274388 val accuracy: 0.306000\n",
      "lr 2.782559e-06 reg 1.000000e+03 train accuracy: 0.285816 val accuracy: 0.285000\n",
      "lr 2.782559e-06 reg 1.000000e+04 train accuracy: 0.356939 val accuracy: 0.363000\n",
      "lr 2.782559e-06 reg 1.000000e+05 train accuracy: 0.273694 val accuracy: 0.282000\n",
      "lr 2.782559e-06 reg 1.000000e+06 train accuracy: 0.062898 val accuracy: 0.075000\n",
      "lr 4.641589e-04 reg 1.000000e-03 train accuracy: 0.233571 val accuracy: 0.253000\n",
      "lr 4.641589e-04 reg 1.000000e-02 train accuracy: 0.242837 val accuracy: 0.233000\n",
      "lr 4.641589e-04 reg 1.000000e-01 train accuracy: 0.289735 val accuracy: 0.299000\n",
      "lr 4.641589e-04 reg 1.000000e+00 train accuracy: 0.200959 val accuracy: 0.203000\n",
      "lr 4.641589e-04 reg 1.000000e+01 train accuracy: 0.261857 val accuracy: 0.243000\n",
      "lr 4.641589e-04 reg 1.000000e+02 train accuracy: 0.194082 val accuracy: 0.190000\n",
      "lr 4.641589e-04 reg 1.000000e+03 train accuracy: 0.184408 val accuracy: 0.187000\n",
      "lr 4.641589e-04 reg 1.000000e+04 train accuracy: 0.068857 val accuracy: 0.058000\n",
      "lr 4.641589e-04 reg 1.000000e+05 train accuracy: 0.080184 val accuracy: 0.072000\n",
      "lr 4.641589e-04 reg 1.000000e+06 train accuracy: 0.102918 val accuracy: 0.108000\n",
      "lr 7.742637e-02 reg 1.000000e-03 train accuracy: 0.250061 val accuracy: 0.250000\n",
      "lr 7.742637e-02 reg 1.000000e-02 train accuracy: 0.242286 val accuracy: 0.252000\n",
      "lr 7.742637e-02 reg 1.000000e-01 train accuracy: 0.221633 val accuracy: 0.222000\n",
      "lr 7.742637e-02 reg 1.000000e+00 train accuracy: 0.173837 val accuracy: 0.180000\n",
      "lr 7.742637e-02 reg 1.000000e+01 train accuracy: 0.079878 val accuracy: 0.067000\n",
      "lr 7.742637e-02 reg 1.000000e+02 train accuracy: 0.048367 val accuracy: 0.062000\n",
      "lr 7.742637e-02 reg 1.000000e+03 train accuracy: 0.050633 val accuracy: 0.049000\n",
      "lr 7.742637e-02 reg 1.000000e+04 train accuracy: 0.059531 val accuracy: 0.061000\n",
      "lr 7.742637e-02 reg 1.000000e+05 train accuracy: 0.100265 val accuracy: 0.087000\n",
      "lr 7.742637e-02 reg 1.000000e+06 train accuracy: 0.100265 val accuracy: 0.087000\n",
      "lr 1.291550e+01 reg 1.000000e-03 train accuracy: 0.207286 val accuracy: 0.215000\n",
      "lr 1.291550e+01 reg 1.000000e-02 train accuracy: 0.203980 val accuracy: 0.215000\n",
      "lr 1.291550e+01 reg 1.000000e-01 train accuracy: 0.098592 val accuracy: 0.110000\n",
      "lr 1.291550e+01 reg 1.000000e+00 train accuracy: 0.052286 val accuracy: 0.038000\n",
      "lr 1.291550e+01 reg 1.000000e+01 train accuracy: 0.090878 val accuracy: 0.106000\n",
      "lr 1.291550e+01 reg 1.000000e+02 train accuracy: 0.100265 val accuracy: 0.087000\n",
      "lr 1.291550e+01 reg 1.000000e+03 train accuracy: 0.100265 val accuracy: 0.087000\n",
      "lr 1.291550e+01 reg 1.000000e+04 train accuracy: 0.100265 val accuracy: 0.087000\n",
      "lr 1.291550e+01 reg 1.000000e+05 train accuracy: 0.100265 val accuracy: 0.087000\n",
      "lr 1.291550e+01 reg 1.000000e+06 train accuracy: 0.100265 val accuracy: 0.087000\n",
      "lr 2.154435e+03 reg 1.000000e-03 train accuracy: 0.071694 val accuracy: 0.081000\n",
      "lr 2.154435e+03 reg 1.000000e-02 train accuracy: 0.072143 val accuracy: 0.082000\n",
      "lr 2.154435e+03 reg 1.000000e-01 train accuracy: 0.047939 val accuracy: 0.051000\n",
      "lr 2.154435e+03 reg 1.000000e+00 train accuracy: 0.100265 val accuracy: 0.087000\n",
      "lr 2.154435e+03 reg 1.000000e+01 train accuracy: 0.100265 val accuracy: 0.087000\n",
      "lr 2.154435e+03 reg 1.000000e+02 train accuracy: 0.100265 val accuracy: 0.087000\n",
      "lr 2.154435e+03 reg 1.000000e+03 train accuracy: 0.100265 val accuracy: 0.087000\n",
      "lr 2.154435e+03 reg 1.000000e+04 train accuracy: 0.100265 val accuracy: 0.087000\n",
      "lr 2.154435e+03 reg 1.000000e+05 train accuracy: 0.100265 val accuracy: 0.087000\n",
      "lr 2.154435e+03 reg 1.000000e+06 train accuracy: 0.100265 val accuracy: 0.087000\n",
      "lr 3.593814e+05 reg 1.000000e-03 train accuracy: 0.053245 val accuracy: 0.065000\n",
      "lr 3.593814e+05 reg 1.000000e-02 train accuracy: 0.100265 val accuracy: 0.087000\n",
      "lr 3.593814e+05 reg 1.000000e-01 train accuracy: 0.100265 val accuracy: 0.087000\n",
      "lr 3.593814e+05 reg 1.000000e+00 train accuracy: 0.100265 val accuracy: 0.087000\n",
      "lr 3.593814e+05 reg 1.000000e+01 train accuracy: 0.100265 val accuracy: 0.087000\n",
      "lr 3.593814e+05 reg 1.000000e+02 train accuracy: 0.100265 val accuracy: 0.087000\n",
      "lr 3.593814e+05 reg 1.000000e+03 train accuracy: 0.100265 val accuracy: 0.087000\n",
      "lr 3.593814e+05 reg 1.000000e+04 train accuracy: 0.100265 val accuracy: 0.087000\n",
      "lr 3.593814e+05 reg 1.000000e+05 train accuracy: 0.100265 val accuracy: 0.087000\n",
      "lr 3.593814e+05 reg 1.000000e+06 train accuracy: 0.100265 val accuracy: 0.087000\n",
      "lr 5.994843e+07 reg 1.000000e-03 train accuracy: 0.100265 val accuracy: 0.087000\n",
      "lr 5.994843e+07 reg 1.000000e-02 train accuracy: 0.100265 val accuracy: 0.087000\n",
      "lr 5.994843e+07 reg 1.000000e-01 train accuracy: 0.100265 val accuracy: 0.087000\n",
      "lr 5.994843e+07 reg 1.000000e+00 train accuracy: 0.100265 val accuracy: 0.087000\n",
      "lr 5.994843e+07 reg 1.000000e+01 train accuracy: 0.100265 val accuracy: 0.087000\n",
      "lr 5.994843e+07 reg 1.000000e+02 train accuracy: 0.100265 val accuracy: 0.087000\n",
      "lr 5.994843e+07 reg 1.000000e+03 train accuracy: 0.100265 val accuracy: 0.087000\n",
      "lr 5.994843e+07 reg 1.000000e+04 train accuracy: 0.100265 val accuracy: 0.087000\n",
      "lr 5.994843e+07 reg 1.000000e+05 train accuracy: 0.100265 val accuracy: 0.087000\n",
      "lr 5.994843e+07 reg 1.000000e+06 train accuracy: 0.100265 val accuracy: 0.087000\n",
      "lr 1.000000e+10 reg 1.000000e-03 train accuracy: 0.100265 val accuracy: 0.087000\n",
      "lr 1.000000e+10 reg 1.000000e-02 train accuracy: 0.100265 val accuracy: 0.087000\n",
      "lr 1.000000e+10 reg 1.000000e-01 train accuracy: 0.100265 val accuracy: 0.087000\n",
      "lr 1.000000e+10 reg 1.000000e+00 train accuracy: 0.100265 val accuracy: 0.087000\n",
      "lr 1.000000e+10 reg 1.000000e+01 train accuracy: 0.100265 val accuracy: 0.087000\n",
      "lr 1.000000e+10 reg 1.000000e+02 train accuracy: 0.100265 val accuracy: 0.087000\n",
      "lr 1.000000e+10 reg 1.000000e+03 train accuracy: 0.100265 val accuracy: 0.087000\n",
      "lr 1.000000e+10 reg 1.000000e+04 train accuracy: 0.100265 val accuracy: 0.087000\n",
      "lr 1.000000e+10 reg 1.000000e+05 train accuracy: 0.100265 val accuracy: 0.087000\n",
      "lr 1.000000e+10 reg 1.000000e+06 train accuracy: 0.100265 val accuracy: 0.087000\n",
      "best validation accuracy achieved during cross-validation: 0.363000\n"
     ]
    }
   ],
   "source": [
    "# Use the validation set to tune hyperparameters (regularization strength and\n",
    "# learning rate). You should experiment with different ranges for the learning\n",
    "# rates and regularization strengths; if you are careful you should be able to\n",
    "# get a classification accuracy of over 0.35 on the validation set.\n",
    "from cs231n.classifiers import Softmax\n",
    "results = {}\n",
    "best_val = -1\n",
    "best_softmax = None\n",
    "learning_rates = np.logspace(-10, 10, 10)\n",
    "regularization_strengths = np.logspace(-3, 6, 10) \n",
    "\n",
    "################################################################################\n",
    "# TODO:                                                                        #\n",
    "# Use the validation set to set the learning rate and regularization strength. #\n",
    "# This should be identical to the validation that you did for the SVM; save    #\n",
    "# the best trained softmax classifer in best_softmax.                          #\n",
    "################################################################################\n",
    "iters = 100#2000 #100\n",
    "for lr in learning_rates:\n",
    "    for rs in regularization_strengths:\n",
    "        softmax = Softmax()\n",
    "        softmax.train(X_train, y_train, learning_rate=lr, reg=rs, num_iters=iters)\n",
    "        \n",
    "        y_train_pred = softmax.predict(X_train)\n",
    "        acc_train = np.mean(y_train == y_train_pred)\n",
    "        y_val_pred = softmax.predict(X_val)\n",
    "        acc_val = np.mean(y_val == y_val_pred)\n",
    "        \n",
    "        results[(lr, rs)] = (acc_train, acc_val)\n",
    "        \n",
    "        if best_val < acc_val:\n",
    "            best_val = acc_val\n",
    "            best_softmax = softmax\n",
    "################################################################################\n",
    "#                              END OF YOUR CODE                                #\n",
    "################################################################################\n",
    "    \n",
    "# Print out results.\n",
    "for lr, reg in sorted(results):\n",
    "    train_accuracy, val_accuracy = results[(lr, reg)]\n",
    "    print('lr %e reg %e train accuracy: %f val accuracy: %f' % (\n",
    "                lr, reg, train_accuracy, val_accuracy))\n",
    "    \n",
    "print('best validation accuracy achieved during cross-validation: %f' % best_val)"
   ]
  },
  {
   "cell_type": "code",
   "execution_count": 15,
   "metadata": {
    "collapsed": false
   },
   "outputs": [
    {
     "name": "stdout",
     "output_type": "stream",
     "text": [
      "softmax on raw pixels final test set accuracy: 0.332000\n"
     ]
    }
   ],
   "source": [
    "# evaluate on test set\n",
    "# Evaluate the best softmax on test set\n",
    "y_test_pred = best_softmax.predict(X_test)\n",
    "test_accuracy = np.mean(y_test == y_test_pred)\n",
    "print('softmax on raw pixels final test set accuracy: %f' % (test_accuracy, ))"
   ]
  },
  {
   "cell_type": "code",
   "execution_count": 16,
   "metadata": {
    "collapsed": false
   },
   "outputs": [
    {
     "data": {
      "image/png": "[encoded data removed]",
      "text/plain": [
       "<matplotlib.figure.Figure at 0x7f321dcca450>"
      ]
     },
     "metadata": {},
     "output_type": "display_data"
    }
   ],
   "source": [
    "# Visualize the learned weights for each class\n",
    "w = best_softmax.W[:-1,:] # strip out the bias\n",
    "w = w.reshape(32, 32, 3, 10)\n",
    "\n",
    "w_min, w_max = np.min(w), np.max(w)\n",
    "\n",
    "classes = ['plane', 'car', 'bird', 'cat', 'deer', 'dog', 'frog', 'horse', 'ship', 'truck']\n",
    "for i in range(10):\n",
    "    plt.subplot(2, 5, i + 1)\n",
    "    \n",
    "    # Rescale the weights to be between 0 and 255\n",
    "    wimg = 255.0 * (w[:, :, :, i].squeeze() - w_min) / (w_max - w_min)\n",
    "    plt.imshow(wimg.astype('uint8'))\n",
    "    plt.axis('off')\n",
    "    plt.title(classes[i])"
   ]
  }
 ],
 "metadata": {
  "kernelspec": {
   "display_name": "Python 2",
   "language": "python",
   "name": "python2"
  },
  "language_info": {
   "codemirror_mode": {
    "name": "ipython",
    "version": 2
   },
   "file_extension": ".py",
   "mimetype": "text/x-python",
   "name": "python",
   "nbconvert_exporter": "python",
   "pygments_lexer": "ipython2",
   "version": "2.7.12"
  }
 },
 "nbformat": 4,
 "nbformat_minor": 0
}
