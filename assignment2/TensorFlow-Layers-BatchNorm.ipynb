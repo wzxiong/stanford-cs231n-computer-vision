{
 "cells": [
  {
   "cell_type": "markdown",
   "metadata": {},
   "source": [
    "## Load Dataset"
   ]
  },
  {
   "cell_type": "code",
   "execution_count": 1,
   "metadata": {
    "collapsed": true
   },
   "outputs": [],
   "source": [
    "import tensorflow as tf\n",
    "import numpy as np\n",
    "import math\n",
    "import timeit\n",
    "import matplotlib.pyplot as plt\n",
    "%matplotlib inline"
   ]
  },
  {
   "cell_type": "code",
   "execution_count": 2,
   "metadata": {
    "collapsed": false
   },
   "outputs": [
    {
     "name": "stdout",
     "output_type": "stream",
     "text": [
      "Train data shape:  (49000, 32, 32, 3)\n",
      "Train labels shape:  (49000,)\n",
      "Validation data shape:  (1000, 32, 32, 3)\n",
      "Validation labels shape:  (1000,)\n",
      "Test data shape:  (10000, 32, 32, 3)\n",
      "Test labels shape:  (10000,)\n"
     ]
    }
   ],
   "source": [
    "from cs231n.data_utils import load_CIFAR10\n",
    "\n",
    "def get_CIFAR10_data(num_training=49000, num_validation=1000, num_test=10000):\n",
    "    \"\"\"\n",
    "    Load the CIFAR-10 dataset from disk and perform preprocessing to prepare\n",
    "    it for the two-layer neural net classifier. These are the same steps as\n",
    "    we used for the SVM, but condensed to a single function.  \n",
    "    \"\"\"\n",
    "    # Load the raw CIFAR-10 data\n",
    "    cifar10_dir = 'cs231n/datasets/cifar-10-batches-py'\n",
    "    X_train, y_train, X_test, y_test = load_CIFAR10(cifar10_dir)\n",
    "\n",
    "    # Subsample the data\n",
    "    mask = range(num_training, num_training + num_validation)\n",
    "    X_val = X_train[mask]\n",
    "    y_val = y_train[mask]\n",
    "    mask = range(num_training)\n",
    "    X_train = X_train[mask]\n",
    "    y_train = y_train[mask]\n",
    "    mask = range(num_test)\n",
    "    X_test = X_test[mask]\n",
    "    y_test = y_test[mask]\n",
    "\n",
    "    # Normalize the data: subtract the mean image\n",
    "    mean_image = np.mean(X_train, axis=0)\n",
    "    X_train -= mean_image\n",
    "    X_val -= mean_image\n",
    "    X_test -= mean_image\n",
    "\n",
    "    return X_train, y_train, X_val, y_val, X_test, y_test\n",
    "\n",
    "\n",
    "# Invoke the above function to get our data.\n",
    "X_train, y_train, X_val, y_val, X_test, y_test = get_CIFAR10_data()\n",
    "print('Train data shape: ', X_train.shape)\n",
    "print('Train labels shape: ', y_train.shape)\n",
    "print('Validation data shape: ', X_val.shape)\n",
    "print('Validation labels shape: ', y_val.shape)\n",
    "print('Test data shape: ', X_test.shape)\n",
    "print('Test labels shape: ', y_test.shape)"
   ]
  },
  {
   "cell_type": "markdown",
   "metadata": {},
   "source": [
    "## Define the model\n",
    "\n",
    "conv -> pool -> conv -> pool -> conv -> avg pool -> fc"
   ]
  },
  {
   "cell_type": "code",
   "execution_count": 7,
   "metadata": {
    "collapsed": false
   },
   "outputs": [],
   "source": [
    "def complex_conv(X_, filters, kernel_size, strides, padding, initializer, regularizer, dropout_rate, is_training_, name):\n",
    "    # dropout -> conv -> bn -> relu\n",
    "    \n",
    "    # combo layers\n",
    "    with tf.variable_scope(name):\n",
    "        out = X_\n",
    "        out = tf.layers.dropout(out, rate=dropout_rate, training=is_training_, name=\"dropout\")\n",
    "        out = tf.layers.conv2d(out, filters=filters, kernel_size=kernel_size, strides=strides, padding=padding, \n",
    "            activation=None, kernel_initializer=initializer, kernel_regularizer=regularizer, name=\"conv\")\n",
    "        out = tf.layers.batch_normalization(out, axis=-1, training=is_training_, name=\"bn\")\n",
    "        out = tf.nn.relu(out)\n",
    "\n",
    "    return out\n",
    "    \n",
    "def model_op(X_, y_, is_training_, reg_rate, dropout_rate=0.):\n",
    "    \n",
    "    xavier_conv2d = tf.contrib.layers.xavier_initializer_conv2d() # use Xavier initializer\n",
    "    xavier_init = tf.contrib.layers.xavier_initializer() # use Xavier initializer\n",
    "    regularizer = tf.contrib.layers.l2_regularizer(reg_rate)\n",
    "\n",
    "    with tf.variable_scope(\"layer1\"):\n",
    "        out = complex_conv(X_, filters=32, kernel_size=[3,3], strides=(1,1) , padding='valid', \n",
    "                    initializer=xavier_conv2d, regularizer=regularizer, dropout_rate=dropout_rate, \n",
    "                    is_training_=is_training_, name=\"conv1\")\n",
    "        out = tf.layers.max_pooling2d(out, pool_size=[2, 2], strides=2, name=\"pool\")\n",
    "\n",
    "    with tf.variable_scope(\"layer2\"):\n",
    "        out = complex_conv(out, filters=64, kernel_size=[2,2], strides=(1,1) , padding='valid', \n",
    "                    initializer=xavier_conv2d, regularizer=regularizer, dropout_rate=dropout_rate, \n",
    "                    is_training_=is_training_, name=\"conv1\")\n",
    "        out = tf.layers.max_pooling2d(out, pool_size=[2, 2], strides=2, name=\"pool\")\n",
    "\n",
    "    with tf.variable_scope(\"layer3\"):\n",
    "        out = complex_conv(out, filters=128, kernel_size=[2,2], strides=(1,1) , padding='valid', \n",
    "                    initializer=xavier_conv2d, regularizer=regularizer, dropout_rate=dropout_rate, \n",
    "                    is_training_=is_training_, name=\"conv1\")\n",
    "        out = tf.layers.average_pooling2d(out, pool_size=[6, 6], strides=1, name=\"pool\")\n",
    "\n",
    "    with tf.variable_scope(\"dense1\"):\n",
    "        out = tf.layers.dropout(out, rate=dropout_rate, training=is_training_, name=\"dropout\")\n",
    "        out = tf.reshape(out, [-1, 128], name=\"pool_flat\")\n",
    "        y_out = tf.layers.dense(out, units=10, activation=None, \n",
    "                    kernel_initializer=xavier_init, kernel_regularizer=regularizer, name=\"output\")\n",
    "                         \n",
    "    return y_out\n"
   ]
  },
  {
   "cell_type": "code",
   "execution_count": 4,
   "metadata": {
    "collapsed": false
   },
   "outputs": [],
   "source": [
    "def loss_op(pred, y_):\n",
    "    onehot_labels = tf.one_hot(y_, depth=10)\n",
    "    loss = tf.nn.softmax_cross_entropy_with_logits(logits=pred, labels=onehot_labels)\n",
    "    mean_loss = tf.reduce_mean(loss)\n",
    "\n",
    "    correct_prediction = tf.equal(tf.argmax(pred, 1), y_)\n",
    "    accuracy = tf.reduce_mean(tf.cast(correct_prediction, tf.float32))\n",
    "    \n",
    "    return mean_loss, accuracy \n",
    "\n",
    "\n",
    "def train_op(mean_loss, start_learn_rate, decay_steps=1000, decay_rate=0.9):\n",
    "    global_step = tf.Variable(0, trainable=False)\n",
    "    learn_rate_ = tf.train.exponential_decay(start_learn_rate, global_step, decay_steps,  decay_rate, staircase=True)\n",
    "    optimizer = tf.train.AdamOptimizer(learn_rate_)\n",
    "    return optimizer.minimize(mean_loss, global_step=global_step)\n"
   ]
  },
  {
   "cell_type": "markdown",
   "metadata": {},
   "source": [
    "## Train and validate the model"
   ]
  },
  {
   "cell_type": "code",
   "execution_count": 25,
   "metadata": {
    "collapsed": false
   },
   "outputs": [],
   "source": [
    "def val_model(session, X_val, y_val, X_, y_, is_training_, mean_loss, accuracy, batch_size=64):\n",
    "    batch_val_loss = []\n",
    "    batch_val_acc = []\n",
    "    for i in range(int(math.ceil(X_val.shape[0]/batch_size))):\n",
    "        # generate indicies for the batch\n",
    "        idx = (i*batch_size)%X_val.shape[0]\n",
    "        feed_dict = {X_: X_val[idx:idx+batch_size],\n",
    "                     y_: y_val[idx:idx+batch_size],\n",
    "                     is_training_: False}\n",
    "        loss, acc =  session.run([mean_loss, accuracy], feed_dict=feed_dict)\n",
    "        batch_val_loss.append(loss)\n",
    "        batch_val_acc.append(acc)\n",
    "    val_loss, val_acc = np.mean(batch_val_loss), np.mean(batch_val_acc)\n",
    "    return val_loss, val_acc\n",
    "        \n",
    "def train_model(X_train, y_train, X_val, y_val, learn_rate, reg_rate,\n",
    "              epochs=1, batch_size=64, verbose=True):\n",
    "    \n",
    "    # clear old variables\n",
    "    tf.reset_default_graph()\n",
    "\n",
    "    # define our input (e.g. the data that changes every batch)\n",
    "    # The first dim is None, and gets sets automatically based on batch size fed in\n",
    "    X_ = tf.placeholder(tf.float32, [None, 32, 32, 3])\n",
    "    y_ = tf.placeholder(tf.int64, [None])\n",
    "    is_training_ = tf.placeholder(tf.bool)\n",
    "\n",
    "    # define graph\n",
    "    pred = model_op(X_, y_, is_training_, reg_rate)\n",
    "    mean_loss, accuracy = loss_op(pred, y_)\n",
    "    train_step = train_op(mean_loss, learn_rate)\n",
    "\n",
    "    session = tf.Session()\n",
    "    # init variables\n",
    "    session.run(tf.global_variables_initializer())\n",
    "\n",
    "    # shuffle indicies\n",
    "    train_indicies = np.arange(X_train.shape[0])\n",
    "    np.random.shuffle(train_indicies)\n",
    "\n",
    "    # keep track of losses and accuracy\n",
    "    epoch_train_loss = []\n",
    "    epoch_train_acc = []\n",
    "    epoch_val_loss = []\n",
    "    epoch_val_acc = []\n",
    "    \n",
    "    # counter \n",
    "    iter_cnt = 0\n",
    "    for e in range(epochs):\n",
    "        print('Epoch {}'.format(e+1))\n",
    "        # make sure we iterate over the dataset once\n",
    "        batch_train_loss = []\n",
    "        batch_train_acc = []\n",
    "        for i in range(int(math.ceil(X_train.shape[0]/batch_size))):\n",
    "            # generate indicies for the batch\n",
    "            start_idx = (i*batch_size)%X_train.shape[0]\n",
    "            idx = train_indicies[start_idx:start_idx+batch_size]\n",
    "            \n",
    "            # create a feed dictionary for this batch\n",
    "            feed_dict = {X_: X_train[idx,:],\n",
    "                         y_: y_train[idx],\n",
    "                         is_training_: True }\n",
    "            # get batch size\n",
    "            actual_batch_size = y_train[i:i+batch_size].shape[0]\n",
    "            \n",
    "            # have tensorflow compute loss and correct predictions\n",
    "            # and (if given) perform a training step\n",
    "            loss, acc, _ = session.run([mean_loss, accuracy, train_step], feed_dict=feed_dict)\n",
    "            \n",
    "            # aggregate performance stats\n",
    "            batch_train_loss.append(loss)\n",
    "            batch_train_acc.append(acc)\n",
    "            \n",
    "            # print every now and then\n",
    "            if verbose and (iter_cnt % 100) == 0:\n",
    "                print(\"Iteration {0}: with minibatch training loss = {1:.3g} and accuracy of {2:.2g}\"\\\n",
    "                      .format(iter_cnt, loss, acc))\n",
    "            iter_cnt += 1\n",
    "\n",
    "        # end of epoch\n",
    "        epoch_train_loss.append(np.mean(batch_train_loss))\n",
    "        epoch_train_acc.append(np.mean(batch_train_acc))\n",
    "        val_loss, val_acc = val_model(session, X_val, y_val, X_, y_, is_training_, mean_loss, accuracy)\n",
    "        epoch_val_loss.append(val_loss)\n",
    "        epoch_val_acc.append(val_acc)\n",
    "        print(\"Epoch {0}: training loss = {1:.3g} and accuracy = {2:.3g}, validation loss = {3:.3g} and accuracy = {4:.3g} \"\\\n",
    "              .format(e+1, np.mean(batch_train_loss), np.mean(batch_train_acc), val_loss, val_acc))\n",
    "        \n",
    "        if verbose:\n",
    "            plt.plot(batch_train_loss)\n",
    "            plt.grid(True)\n",
    "            plt.title('Training and Validation Loss')\n",
    "            plt.xlabel('minibatch number')\n",
    "            plt.ylabel('minibatch loss')\n",
    "            plt.show()\n",
    "        \n",
    "    train_loss = np.mean(epoch_train_loss)\n",
    "    train_acc = np.mean(epoch_train_acc)\n",
    "    val_loss = np.mean(epoch_val_loss)\n",
    "    val_acc = np.mean(epoch_val_acc)\n",
    "    print(\"Overall train loss = {0:.3g} and accuracy = {1:.3g}, validation loss = {2:.3g} and accuracy = {3:.3g}\"\\\n",
    "          .format(train_loss, train_acc, val_loss, val_acc))\n",
    "    \n",
    "    plt.plot(epoch_train_acc)\n",
    "    plt.plot(epoch_val_acc)\n",
    "    plt.grid(True)\n",
    "    plt.title('Training and Validation Accuracy')\n",
    "    plt.xlabel('epoch number')\n",
    "    plt.ylabel('epoch accuracy')\n",
    "    plt.show()\n",
    "\n",
    "    return train_loss, train_acc, val_loss, val_acc\n"
   ]
  },
  {
   "cell_type": "code",
   "execution_count": 26,
   "metadata": {
    "collapsed": false
   },
   "outputs": [
    {
     "name": "stdout",
     "output_type": "stream",
     "text": [
      "INFO:tensorflow:Scale of 0 disables regularizer.\n",
      "Epoch 1\n",
      "Epoch 1: training loss = 1.4 and accuracy = 0.499, validation loss = 46.1 and accuracy = 0.137 \n",
      "Epoch 2\n",
      "Epoch 2: training loss = 1.15 and accuracy = 0.595, validation loss = 59.8 and accuracy = 0.128 \n",
      "Epoch 3\n",
      "Epoch 3: training loss = 1.05 and accuracy = 0.632, validation loss = 66.2 and accuracy = 0.119 \n",
      "Epoch 4\n",
      "Epoch 4: training loss = 0.978 and accuracy = 0.658, validation loss = 69.9 and accuracy = 0.124 \n",
      "Epoch 5\n",
      "Epoch 5: training loss = 0.924 and accuracy = 0.678, validation loss = 71.9 and accuracy = 0.134 \n",
      "Epoch 6\n",
      "Epoch 6: training loss = 0.882 and accuracy = 0.694, validation loss = 73 and accuracy = 0.145 \n",
      "Epoch 7\n",
      "Epoch 7: training loss = 0.847 and accuracy = 0.706, validation loss = 75.2 and accuracy = 0.14 \n",
      "Epoch 8\n",
      "Epoch 8: training loss = 0.817 and accuracy = 0.717, validation loss = 75.4 and accuracy = 0.145 \n",
      "Epoch 9\n",
      "Epoch 9: training loss = 0.79 and accuracy = 0.727, validation loss = 76.2 and accuracy = 0.154 \n",
      "Epoch 10\n",
      "Epoch 10: training loss = 0.768 and accuracy = 0.737, validation loss = 77.4 and accuracy = 0.152 \n",
      "Overall train loss = 0.96 and accuracy = 0.664, validation loss = 69.1 and accuracy = 0.138\n"
     ]
    },
    {
     "data": {
      "image/png": "[encoded data removed]",
      "text/plain": [
       "<matplotlib.figure.Figure at 0x7f9e70052470>"
      ]
     },
     "metadata": {},
     "output_type": "display_data"
    },
    {
     "name": "stdout",
     "output_type": "stream",
     "text": [
      "0.96044 0.66425 69.0834 0.137793\n"
     ]
    }
   ],
   "source": [
    "#best_val_acc = 0\n",
    "#for reg_rate in [1e-3, 3e-3, 5e-3, 7e-3, 9e-3]:\n",
    "#    print(\"Reg rate {0:.3g}\".format(reg_rate))\n",
    "train_loss, train_acc, val_loss, val_acc = train_model(X_train, y_train, X_val, y_val, \n",
    "    learn_rate=1e-3, reg_rate=0., epochs=10, batch_size=64, verbose=False)\n",
    "#    if val_acc > best_val_acc:\n",
    "#        best_rate = reg_rate\n",
    "#        best_val_acc = val_acc\n",
    "        \n",
    "print(train_loss, train_acc, val_loss, val_acc)"
   ]
  },
  {
   "cell_type": "code",
   "execution_count": null,
   "metadata": {
    "collapsed": true
   },
   "outputs": [],
   "source": []
  }
 ],
 "metadata": {
  "kernelspec": {
   "display_name": "Python 3",
   "language": "python",
   "name": "python3"
  },
  "language_info": {
   "codemirror_mode": {
    "name": "ipython",
    "version": 3
   },
   "file_extension": ".py",
   "mimetype": "text/x-python",
   "name": "python",
   "nbconvert_exporter": "python",
   "pygments_lexer": "ipython3",
   "version": "3.6.0"
  }
 },
 "nbformat": 4,
 "nbformat_minor": 2
}
